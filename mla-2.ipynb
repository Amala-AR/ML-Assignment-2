{
 "cells": [
  {
   "cell_type": "markdown",
   "metadata": {},
   "source": [
    "# Task-1:\n"
   ]
  },
  {
   "cell_type": "raw",
   "metadata": {},
   "source": [
    "1.1\n",
    "\n",
    "Write a Python Program to implement your own myreduce() function which works exactly like\n",
    "Python's built-in function reduce()\n"
   ]
  },
  {
   "cell_type": "code",
   "execution_count": 1,
   "metadata": {},
   "outputs": [
    {
     "name": "stdout",
     "output_type": "stream",
     "text": [
      "6\n",
      "6\n"
     ]
    }
   ],
   "source": [
    "#1.1\n",
    "def myreduce(fun,seq):\n",
    "    if(fun==mul):\n",
    "        s=1\n",
    "    else:\n",
    "        s=0\n",
    "    for i in seq:\n",
    "        s=fun(i,s)\n",
    "    return s\n",
    "def sum(a,b):\n",
    "    return a+b\n",
    "def mul(a,b):\n",
    "    return a*b\n",
    "\n",
    "r=myreduce(sum,[1,2,3])\n",
    "k=myreduce(mul,[1,2,3])\n",
    "print(r,k,sep=\"\\n\")\n"
   ]
  },
  {
   "cell_type": "raw",
   "metadata": {},
   "source": [
    "1.2\n",
    "\n",
    "Write a Python program to implement your own myfilter() function which works exactly like\n",
    "Python's built-in function filter()\n"
   ]
  },
  {
   "cell_type": "code",
   "execution_count": 3,
   "metadata": {},
   "outputs": [
    {
     "name": "stdout",
     "output_type": "stream",
     "text": [
      "[2, 4, 6]\n"
     ]
    }
   ],
   "source": [
    "#1.2\n",
    "def myfilter(mf,lis):\n",
    "    k=[]\n",
    "    for i in lis:\n",
    "        c=mf(i)\n",
    "        if(c==True):\n",
    "            k.append(i)\n",
    "    return k\n",
    "def even(num):\n",
    "    if num%2==0:\n",
    "        return True\n",
    "l=[1,2,3,4,5,6]\n",
    "print(myfilter(even,l))\n"
   ]
  },
  {
   "cell_type": "raw",
   "metadata": {},
   "source": [
    "2.\n",
    "\n",
    "Implement List comprehensions to produce the following lists.\n",
    "Write List comprehensions to produce the following Lists\n",
    "['A', 'C', 'A', 'D', 'G', 'I', ’L’, ‘ D’]\n",
    "['x', 'xx', 'xxx', 'xxxx', 'y', 'yy', 'yyy', 'yyyy', 'z', 'zz', 'zzz', 'zzzz']\n",
    "['x', 'y', 'z', 'xx', 'yy', 'zz', 'xx', 'yy', 'zz', 'xxxx', 'yyyy', 'zzzz']\n",
    "[[2], [3], [4], [3], [4], [5], [4], [5], [6]]\n",
    "[[2, 3, 4, 5], [3, 4, 5, 6], [4, 5, 6, 7], [5, 6, 7, 8]]\n",
    "[(1, 1), (2, 1), (3, 1), (1, 2), (2, 2), (3, 2), (1, 3), (2, 3), (3, 3)]\n"
   ]
  },
  {
   "cell_type": "code",
   "execution_count": 4,
   "metadata": {},
   "outputs": [
    {
     "name": "stdout",
     "output_type": "stream",
     "text": [
      "['A', 'C', 'A', 'D', 'G', 'I', 'L', 'D']\n",
      "['x', 'xx', 'xxx', 'xxxx', 'y', 'yy', 'yyy', 'yyyy', 'z', 'zz', 'zzz', 'zzzz']\n",
      "['x', 'y', 'z', 'xx', 'yy', 'zz', 'xxx', 'yyy', 'zzz', 'xxxx', 'yyyy', 'zzzz']\n",
      "[[2], [3], [4], [3], [4], [5], [4], [5], [6]]\n",
      "[[2, 3, 4, 5], [3, 4, 5, 6], [4, 5, 6, 7], [5, 6, 7, 8]]\n",
      "[(1, 1), (2, 1), (3, 1), (1, 2), (2, 2), (3, 2), (1, 3), (2, 3), (3, 3)]\n"
     ]
    }
   ],
   "source": [
    "a=\"ACADGILD\"\n",
    "b=\"xyz\"\n",
    "c=[2,3,4,5,6]\n",
    "d=c+[7,8]\n",
    "k=[i for i in a]\n",
    "l=[i*j for i in b for j in range(1,5)]\n",
    "m=[i*j for i in range(1,5 )for j in b]\n",
    "n=[[c[j]] for i in range(0,3) for j in range(i,i+3)]\n",
    "o=[[d[i],d[i+1],d[i+2],d[i+3]] for i in range(0,4)]\n",
    "p=[(j,i) for i in range(1,4) for j in range(1,4)]\n",
    "\n",
    "print(k,l,m,n,o,p,sep=\"\\n\")"
   ]
  },
  {
   "cell_type": "raw",
   "metadata": {},
   "source": [
    "3\n",
    "\n",
    "Implement a function longestWord() that takes a list of words and returns the longest one.\n"
   ]
  },
  {
   "cell_type": "code",
   "execution_count": 5,
   "metadata": {},
   "outputs": [
    {
     "name": "stdout",
     "output_type": "stream",
     "text": [
      "andriod\n"
     ]
    }
   ],
   "source": [
    "def longestWord(lis):\n",
    "    s=[\"\"]\n",
    "    for i in lis:\n",
    "        if(len(s[0])<len(i)):\n",
    "            s[0]=i\n",
    "    return print(\"\".join(s))\n",
    "\n",
    "lis=[\"mac\",\"iphone\",\"ipad\",\"andriod\",\"window\"]\n",
    "longestWord(lis)"
   ]
  },
  {
   "cell_type": "markdown",
   "metadata": {},
   "source": [
    "# Task : 2\n",
    "    "
   ]
  },
  {
   "cell_type": "raw",
   "metadata": {},
   "source": [
    "1.1\n",
    "\n",
    "Write a Python Program(with class concepts) to find the area of the triangle using the below\n",
    "formula.\n",
    "area = (s*(s-a)*(s-b)*(s-c)) ** 0.5\n",
    "Function to take the length of the sides of triangle from user should be defined in the parent\n",
    "class and function to calculate the area should be defined in subclass.\n"
   ]
  },
  {
   "cell_type": "code",
   "execution_count": 22,
   "metadata": {},
   "outputs": [
    {
     "name": "stdout",
     "output_type": "stream",
     "text": [
      "Area 9.921567416492215\n"
     ]
    }
   ],
   "source": [
    "class parent:\n",
    "    def __init__(self,a,b,c):\n",
    "        self.a=a\n",
    "        self.b=b\n",
    "        self.c=c\n",
    "class subclass(parent):\n",
    "    def __init__(self,a,b,c):\n",
    "        super().__init__(a,b,c)\n",
    "    def area(self):\n",
    "        self.s=((self.a+self.b+self.c)/2)\n",
    "        return (self.s*(self.s-self.a)*(self.s-self.b)*(self.s-self.c)) ** 0.5\n",
    "    \n",
    "    \n",
    "k = subclass(5,4,6)\n",
    "print(\"Area\",k.area())"
   ]
  },
  {
   "cell_type": "raw",
   "metadata": {},
   "source": [
    "1.2\n",
    "\n",
    "Write a function filter_long_words() that takes a list of words and an integer n and returns the list\n",
    "of words that are longer than n.\n"
   ]
  },
  {
   "cell_type": "code",
   "execution_count": 5,
   "metadata": {},
   "outputs": [
    {
     "name": "stdout",
     "output_type": "stream",
     "text": [
      "5\n",
      "['iphone', 'andriod', 'windows']\n"
     ]
    }
   ],
   "source": [
    "def filter_long_words(l,n):\n",
    "    k=[i  for i in l if(len(i)>n)]\n",
    "    return k\n",
    "l=[\"mac\",\"iphone\",\"ipad\",\"andriod\",\"windows\"]\n",
    "n=int(input())\n",
    "print(filter_long_words(l,n))\n",
    "\n"
   ]
  },
  {
   "cell_type": "raw",
   "metadata": {},
   "source": [
    "2.1\n",
    "\n",
    "Write a Python program using function concept that maps list of words into a list of integers\n",
    "representing the lengths of the corresponding words.\n"
   ]
  },
  {
   "cell_type": "code",
   "execution_count": 23,
   "metadata": {},
   "outputs": [
    {
     "name": "stdout",
     "output_type": "stream",
     "text": [
      "[3, 6, 4, 7, 7]\n"
     ]
    }
   ],
   "source": [
    "#2.1\n",
    "\n",
    "def length(lis):\n",
    "    k=[]\n",
    "    for i in lis:\n",
    "        k.append(len(i))\n",
    "    return k\n",
    "l=[\"mac\",\"iphone\",\"ipad\",\"andriod\",\"windows\"]\n",
    "print(length(l))\n",
    "\n"
   ]
  },
  {
   "cell_type": "raw",
   "metadata": {},
   "source": [
    "2.2\n",
    "\n",
    "Write a Python function which takes a character (i.e. a string of length 1) and returns True if it is\n",
    "a vowel, False otherwise.\n"
   ]
  },
  {
   "cell_type": "code",
   "execution_count": 7,
   "metadata": {},
   "outputs": [
    {
     "name": "stdout",
     "output_type": "stream",
     "text": [
      "Enter char:h\n",
      "False\n"
     ]
    }
   ],
   "source": [
    "#2.2\n",
    "\n",
    "def vowel(s):\n",
    "    if s in [\"a\",\"e\",\"i\",\"o\"]:\n",
    "        return True\n",
    "    else:\n",
    "        return False\n",
    "s=input(\"Enter char:\")\n",
    "print(vowel(s.lower()))"
   ]
  }
 ],
 "metadata": {
  "kernelspec": {
   "display_name": "Python 3",
   "language": "python",
   "name": "python3"
  },
  "language_info": {
   "codemirror_mode": {
    "name": "ipython",
    "version": 3
   },
   "file_extension": ".py",
   "mimetype": "text/x-python",
   "name": "python",
   "nbconvert_exporter": "python",
   "pygments_lexer": "ipython3",
   "version": "3.7.6"
  }
 },
 "nbformat": 4,
 "nbformat_minor": 4
}
